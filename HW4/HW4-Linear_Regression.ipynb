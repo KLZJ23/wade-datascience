{
 "cells": [
  {
   "cell_type": "markdown",
   "metadata": {},
   "source": [
    "# Video 1: Preparing X and y"
   ]
  },
  {
   "cell_type": "code",
   "execution_count": null,
   "metadata": {},
   "outputs": [],
   "source": [
    "from ucimlrepo import fetch_ucirepo\n",
    "\n",
    "# fetch dataset\n",
    "superconductivty_data = fetch_ucirepo(id=464)\n",
    "\n",
    "# data (as pandas dataframes)\n",
    "X = superconductivty_data.data.features\n",
    "y = superconductivty_data.data.targets"
   ]
  }
 ],
 "metadata": {
  "language_info": {
   "name": "python"
  }
 },
 "nbformat": 4,
 "nbformat_minor": 2
}
